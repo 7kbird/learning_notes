{
 "cells": [
  {
   "cell_type": "code",
   "execution_count": 1,
   "metadata": {},
   "outputs": [],
   "source": [
    "%run env_setup.py\n",
    "%matplotlib notebook"
   ]
  },
  {
   "cell_type": "code",
   "execution_count": 42,
   "metadata": {},
   "outputs": [],
   "source": [
    "from matplotlib import pyplot as plt\n",
    "#from tensorflow.contrib import keras\n",
    "import keras\n",
    "from keras import backend as K\n",
    "import numpy as np\n",
    "import bcolz\n",
    "from lessdeep.utils import download_file, extract_file\n",
    "from lessdeep.model.vgg16n import Vgg16N"
   ]
  },
  {
   "cell_type": "markdown",
   "metadata": {},
   "source": [
    "# Super resolution"
   ]
  },
  {
   "cell_type": "code",
   "execution_count": 3,
   "metadata": {},
   "outputs": [],
   "source": [
    "resized_72_path = extract_file(download_file('http://files.fast.ai/data/trn_resized_72.tar.gz'))\n",
    "resized_288_path = extract_file(download_file('http://files.fast.ai/data/trn_resized_288.tar.gz'))"
   ]
  },
  {
   "cell_type": "code",
   "execution_count": 4,
   "metadata": {},
   "outputs": [],
   "source": [
    "arr_lr = bcolz.open(resized_72_path) # Low resolution\n",
    "arr_hr = bcolz.open(resized_288_path) # High resolution"
   ]
  },
  {
   "cell_type": "code",
   "execution_count": 31,
   "metadata": {},
   "outputs": [],
   "source": [
    "def conv_block(x, filters, size, strides=(2,2), padding='same', activation='relu'):\n",
    "    x = keras.layers.Conv2D(filters, kernel_size=size, strides=strides, padding=padding)(x)\n",
    "    x = keras.layers.BatchNormalization()(x)\n",
    "    return keras.layers.Activation(activation)(x) if activation else x\n",
    "\n",
    "def res_block(x, filters=64):\n",
    "    y = conv_block(x, filters, 3, strides=(1,1))\n",
    "    y = conv_block(y, filters, 3, strides=(1,1), activation=None)\n",
    "    return keras.layers.add([y, x])\n",
    "\n",
    "def up_block(x, filters, size):\n",
    "    x = keras.layers.UpSampling2D()(x)\n",
    "    x = keras.layers.Conv2D(filters, size, padding='same')(x)\n",
    "    x = keras.layers.BatchNormalization()(x)\n",
    "    return keras.layers.Activation('relu')(x)\n",
    "\n",
    "def deconv_block(x, filters, size, strides=(2,2)):\n",
    "    x = keras.layers.Conv2DTranspose(filters, size, strides=strides, padding='same')(x)\n",
    "    x = keras.layers.BatchNormalization()(x)\n",
    "    return keras.layers.Activation('relu')(x)"
   ]
  },
  {
   "cell_type": "code",
   "execution_count": 32,
   "metadata": {},
   "outputs": [],
   "source": [
    "inp = keras.layers.Input(arr_lr.shape[1:])\n",
    "x = conv_block(inp, 64, 9, strides=(1,1))\n",
    "for _ in range(4):\n",
    "    x = res_block(x)\n",
    "x = up_block(x, 64, 3)\n",
    "x = up_block(x, 64, 3)\n",
    "x = keras.layers.Conv2D(3, 9, activation='tanh', padding='same')(x)\n",
    "out = keras.layers.Lambda(lambda x: (x + 1)*127.5)(x)"
   ]
  },
  {
   "cell_type": "code",
   "execution_count": 33,
   "metadata": {},
   "outputs": [],
   "source": [
    "vgg = Vgg16N(include_top=False, image_size=arr_hr.shape[1:3])\n",
    "vgg_inp = vgg.model.input"
   ]
  },
  {
   "cell_type": "code",
   "execution_count": 34,
   "metadata": {},
   "outputs": [],
   "source": [
    "for l in vgg.model.layers: l.trainable=False"
   ]
  },
  {
   "cell_type": "code",
   "execution_count": 35,
   "metadata": {},
   "outputs": [],
   "source": [
    "def get_layer_out(model, i):\n",
    "    return model.model.layers[i].output\n",
    "\n",
    "conv_layers = keras.models.Model(vgg_inp, [get_layer_out(vgg, i) for i in [1, 4, 7]])\n",
    "vgg1 = conv_layers(out)\n",
    "vgg2 = conv_layers(vgg_inp)"
   ]
  },
  {
   "cell_type": "code",
   "execution_count": 53,
   "metadata": {},
   "outputs": [],
   "source": [
    "def mean_sqr(diff):\n",
    "    return K.mean(K.sqrt(diff**2))\n",
    "\n",
    "def lost_func(vec_concat):\n",
    "    weight = [0.1, 0.8, 0.1]\n",
    "    n = len(weight)\n",
    "    res = 0\n",
    "    return mean_sqr(vec_concat[0] - vec_concat[0+n])\n",
    "    for i, w in enumerate(weight):\n",
    "        res += mean_sqr(vec_concat[i] - vec_concat[i+n]) * w\n",
    "    return res"
   ]
  },
  {
   "cell_type": "code",
   "execution_count": 54,
   "metadata": {},
   "outputs": [],
   "source": [
    "content_lost = keras.Model([inp, vgg_inp], keras.layers.Lambda(lost_func)(vgg1 + vgg2))"
   ]
  },
  {
   "cell_type": "code",
   "execution_count": 43,
   "metadata": {},
   "outputs": [],
   "source": [
    "tgt = np.zeros((len(arr_hr), 1))"
   ]
  },
  {
   "cell_type": "code",
   "execution_count": null,
   "metadata": {},
   "outputs": [],
   "source": [
    "content_lost.compile('adam', 'mse')"
   ]
  },
  {
   "cell_type": "code",
   "execution_count": 45,
   "metadata": {},
   "outputs": [
    {
     "name": "stdout",
     "output_type": "stream",
     "text": [
      "Automatic pdb calling has been turned ON\n"
     ]
    }
   ],
   "source": [
    "%pdb"
   ]
  },
  {
   "cell_type": "code",
   "execution_count": null,
   "metadata": {},
   "outputs": [],
   "source": [
    "def image_compare(img):\n",
    "    fig, (ax1, ax2) = plt.subplots(1,2)\n",
    "    ax1.imshow(img)\n",
    "    ax2.imshow(img)\n",
    "    plt.show()"
   ]
  }
 ],
 "metadata": {
  "kernelspec": {
   "display_name": "Python 3",
   "language": "python",
   "name": "python3"
  },
  "language_info": {
   "codemirror_mode": {
    "name": "ipython",
    "version": 3
   },
   "file_extension": ".py",
   "mimetype": "text/x-python",
   "name": "python",
   "nbconvert_exporter": "python",
   "pygments_lexer": "ipython3",
   "version": "3.5.4"
  }
 },
 "nbformat": 4,
 "nbformat_minor": 2
}
