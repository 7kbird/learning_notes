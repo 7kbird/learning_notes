{
 "cells": [
  {
   "cell_type": "code",
   "execution_count": 1,
   "metadata": {},
   "outputs": [],
   "source": [
    "%run env_setup.py\n",
    "%matplotlib notebook\n",
    "import importlib"
   ]
  },
  {
   "cell_type": "code",
   "execution_count": 72,
   "metadata": {},
   "outputs": [],
   "source": [
    "import os\n",
    "import torch\n",
    "from torch import FloatTensor, nn\n",
    "from torch.autograd import Variable\n",
    "import torchvision\n",
    "import yama\n",
    "import yama.vision as yamavision\n",
    "from tqdm import tqdm_notebook as tqdm"
   ]
  },
  {
   "cell_type": "code",
   "execution_count": 3,
   "metadata": {},
   "outputs": [],
   "source": [
    "from yama.vision.datasets import LocalStorage, PaperSpaceGradientStorage"
   ]
  },
  {
   "cell_type": "code",
   "execution_count": 4,
   "metadata": {},
   "outputs": [],
   "source": [
    "storage = LocalStorage(os.path.abspath('../../_data'))\n",
    "#storage = PaperSpaceGradientStorage()"
   ]
  },
  {
   "cell_type": "code",
   "execution_count": 5,
   "metadata": {},
   "outputs": [],
   "source": [
    "batch_size, image_size, noise_size = 256, (64, 64), 100"
   ]
  },
  {
   "cell_type": "code",
   "execution_count": 12,
   "metadata": {},
   "outputs": [
    {
     "name": "stdout",
     "output_type": "stream",
     "text": [
      "env: http_proxy=http://127.0.0.1:1087\n",
      "env: https_proxy=http://127.0.0.1:1087\n"
     ]
    }
   ],
   "source": [
    "%env http_proxy=http://127.0.0.1:1087\n",
    "%env https_proxy=http://127.0.0.1:1087"
   ]
  },
  {
   "cell_type": "code",
   "execution_count": null,
   "metadata": {},
   "outputs": [],
   "source": []
  },
  {
   "cell_type": "code",
   "execution_count": null,
   "metadata": {},
   "outputs": [],
   "source": []
  },
  {
   "cell_type": "code",
   "execution_count": 14,
   "metadata": {},
   "outputs": [
    {
     "name": "stdout",
     "output_type": "stream",
     "text": [
      "Downloading https://www.cs.toronto.edu/~kriz/cifar-10-python.tar.gz to /Users/kevin/workspace/dl/learning_notes/_data/cifar10/cifar-10-python.tar.gz\n"
     ]
    }
   ],
   "source": [
    "data_path = os.path.abspath('../../_data/cifar10')\n",
    "\n",
    "data = torchvision.datasets.CIFAR10(root=data_path, download=True,\n",
    "    transform=torchvision.transforms.Compose([\n",
    "        torchvision.transforms.Resize(image_size),\n",
    "        torchvision.transforms.ToTensor(),\n",
    "        torchvision.transforms.Normalize((0.5, 0.5, 0.5), (0.5, 0.5, 0.5)),\n",
    "    ])\n",
    ")"
   ]
  },
  {
   "cell_type": "code",
   "execution_count": null,
   "metadata": {},
   "outputs": [],
   "source": [
    "#data_path = os.path.abspath('../../_data/lsun/')\n",
    "#data_path = '../../_data/lsun'\n",
    "data = yama.vision.datasets.LSUN(storage, classes=['bedroom_train'],\n",
    "    transform=torchvision.transforms.Compose([\n",
    "        torchvision.transforms.Resize(image_size),\n",
    "        torchvision.transforms.CenterCrop(image_size),\n",
    "        torchvision.transforms.ToTensor(),\n",
    "        torchvision.transforms.Normalize((0.5, 0.5, 0.5), (0.5, 0.5, 0.5)),\n",
    "    ])\n",
    ")"
   ]
  },
  {
   "cell_type": "code",
   "execution_count": 15,
   "metadata": {},
   "outputs": [
    {
     "data": {
      "text/plain": [
       "196"
      ]
     },
     "execution_count": 15,
     "metadata": {},
     "output_type": "execute_result"
    }
   ],
   "source": [
    "dataloader = torch.utils.data.DataLoader(data, batch_size, shuffle=True, num_workers=os.cpu_count())\n",
    "n = len(dataloader); n"
   ]
  },
  {
   "cell_type": "code",
   "execution_count": 18,
   "metadata": {},
   "outputs": [],
   "source": [
    "class DCGan_D(nn.Module):\n",
    "    def __init__(self):\n",
    "        pass\n",
    "    \n",
    "    def step(self, v, ):\n",
    "        err = self(v)\n",
    "        err.backward()\n",
    "\n",
    "class DCGan_G(nn.Module):\n",
    "    def __init__(self):\n",
    "        pass\n",
    "\n",
    "def train(D, G, opt_D, opt_G, epochs, loader, first=True):\n",
    "    def make_trainable(m, b=True):\n",
    "        for v in m.parameters(): v.require_grad = b\n",
    "    \n",
    "    n = len(loader)\n",
    "    for ep in range(epochs):\n",
    "        gen_iter = 0\n",
    "        d_iter = 0\n",
    "        d_iter_tgt = 0\n",
    "        for real in tqdm(loader):\n",
    "            if d_iter_tgt == 0 or d_iter >= d_iter_tgt:\n",
    "                is_warm_up = first and gen_iter < 25:\n",
    "                if is_warm_up or gen_iter % 500 == 0:\n",
    "                    d_iter_tgt = 100\n",
    "                else:\n",
    "                    d_iter_tgt = 5\n",
    "                d_iter = 0\n",
    "            # TODO: process D\n",
    "            d_iter += 1\n",
    "            if d_iter == d_iter_tgt:\n",
    "                # TODO: process G\n",
    "                opt_G.step()\n",
    "                gen_iter += 1\n",
    "        "
   ]
  }
 ],
 "metadata": {
  "kernelspec": {
   "display_name": "Python 3",
   "language": "python",
   "name": "python3"
  },
  "language_info": {
   "codemirror_mode": {
    "name": "ipython",
    "version": 3
   },
   "file_extension": ".py",
   "mimetype": "text/x-python",
   "name": "python",
   "nbconvert_exporter": "python",
   "pygments_lexer": "ipython3",
   "version": "3.6.5"
  }
 },
 "nbformat": 4,
 "nbformat_minor": 2
}
