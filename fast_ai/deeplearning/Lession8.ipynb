{
 "cells": [
  {
   "cell_type": "code",
   "execution_count": null,
   "metadata": {},
   "outputs": [],
   "source": [
    "%run env_setup.py\n",
    "%matplotlib inline\n",
    "import os\n",
    "from importlib import reload"
   ]
  },
  {
   "cell_type": "code",
   "execution_count": null,
   "metadata": {},
   "outputs": [],
   "source": [
    "import lessdeep as ld\n",
    "import numpy as np"
   ]
  },
  {
   "cell_type": "code",
   "execution_count": null,
   "metadata": {},
   "outputs": [],
   "source": [
    "#img_file = ld.utils.download_file('http://farm2.static.flickr.com/1422/987713710_f801e72921.jpg')\n",
    "img_file = ld.utils.download_file('http://epmgsenior.media.clients.ellingtoncms.com/img/photos/2012/04/30/p_2_goldfinch_2_t750x550.jpg?d885fc46c41745b3b5de550c70336c1b382931d2')"
   ]
  },
  {
   "cell_type": "code",
   "execution_count": null,
   "metadata": {},
   "outputs": [],
   "source": [
    "from matplotlib import pyplot as plt\n",
    "from PIL import Image\n",
    "img = np.array(Image.open(img_file), dtype=np.float32)\n",
    "plt.imshow(img.astype(np.uint8))\n",
    "plt.show()"
   ]
  },
  {
   "cell_type": "code",
   "execution_count": null,
   "metadata": {},
   "outputs": [],
   "source": [
    "van_img = Image.open(ld.utils.download_file('https://upload.wikimedia.org/wikipedia/commons/thumb/e/ea/Van_Gogh_-_Starry_Night_-_Google_Art_Project.jpg/1280px-Van_Gogh_-_Starry_Night_-_Google_Art_Project.jpg'))\n",
    "van_img = np.array(van_img.resize(np.divide(van_img.size, 3).astype(int)), dtype=np.float32)\n",
    "plt.imshow(van_img.astype(np.uint8))\n",
    "plt.show()"
   ]
  },
  {
   "cell_type": "code",
   "execution_count": null,
   "metadata": {},
   "outputs": [],
   "source": [
    "%pdb"
   ]
  },
  {
   "cell_type": "code",
   "execution_count": null,
   "metadata": {},
   "outputs": [],
   "source": [
    "from lessdeep.model.vgg16n import Vgg16N\n",
    "import keras\n",
    "\n",
    "vgg_avg=Vgg16N(include_top=False)\n",
    "vgg_avg_layers = []\n",
    "for l in vgg_avg.model.layers:\n",
    "    if isinstance(l, keras.layers.MaxPool2D):\n",
    "        vgg_avg_layers.append(keras.layers.AveragePooling2D((2, 2), strides=(2, 2)))\n",
    "    else:\n",
    "        vgg_avg_layers.append(l)\n",
    "vgg_avg.model = ld.utils.clone_model(vgg_avg_layers)\n",
    "vgg_avg.compile()\n",
    "vgg_avg.model.summary()"
   ]
  },
  {
   "cell_type": "code",
   "execution_count": null,
   "metadata": {},
   "outputs": [],
   "source": [
    "conv_idx = [i for i, l in enumerate(vgg_avg.model.layers) if isinstance(l, keras.layers.Conv2D)]"
   ]
  },
  {
   "cell_type": "code",
   "execution_count": null,
   "metadata": {},
   "outputs": [],
   "source": [
    "conv_idx"
   ]
  },
  {
   "cell_type": "code",
   "execution_count": null,
   "metadata": {},
   "outputs": [],
   "source": [
    "from keras.applications.imagenet_utils import preprocess_input\n",
    "img_input = preprocess_input(img)[None]\n",
    "van_img_input = preprocess_input(van_img)[None]"
   ]
  },
  {
   "cell_type": "code",
   "execution_count": null,
   "metadata": {},
   "outputs": [],
   "source": [
    "import keras.backend as K\n",
    "def reverse_input(x):\n",
    "    data_format = K.image_data_format()\n",
    "    if data_format == 'channels_first':\n",
    "        if x.ndim == 3:\n",
    "            # 'BGR'->'RGB'\n",
    "            x = x[::-1, ...]\n",
    "            # Zero-center by mean pixel\n",
    "            x[0, :, :] += 123.68\n",
    "            x[1, :, :] += 116.779\n",
    "            x[2, :, :] += 103.939\n",
    "        else:\n",
    "            x = x[:, ::-1, ...]\n",
    "            x[:, 0, :, :] += 123.68\n",
    "            x[:, 1, :, :] += 116.779\n",
    "            x[:, 2, :, :] += 103.939\n",
    "    else:\n",
    "        # 'BGR'->'RGB'\n",
    "        x = x[..., ::-1]\n",
    "        # Zero-center by mean pixel\n",
    "        x[..., 0] += 123.68\n",
    "        x[..., 1] += 116.779\n",
    "        x[..., 2] += 103.939\n",
    "    return x"
   ]
  },
  {
   "cell_type": "code",
   "execution_count": null,
   "metadata": {},
   "outputs": [],
   "source": [
    "plt.imshow(reverse_input(img_input[0]).astype(np.uint8))\n",
    "plt.show()"
   ]
  },
  {
   "cell_type": "code",
   "execution_count": null,
   "metadata": {},
   "outputs": [],
   "source": [
    "layer = vgg_avg.model.layers[conv_idx[-6]].output\n",
    "layer_model = keras.Model(vgg_avg.model.input, layer)"
   ]
  },
  {
   "cell_type": "code",
   "execution_count": null,
   "metadata": {},
   "outputs": [],
   "source": [
    "tgt = K.variable(layer_model.predict(img_input))"
   ]
  },
  {
   "cell_type": "code",
   "execution_count": null,
   "metadata": {},
   "outputs": [],
   "source": [
    "loss = K.mean(keras.metrics.mse(tgt, layer))\n",
    "grad = K.gradients(loss, vgg_avg.model.input)"
   ]
  },
  {
   "cell_type": "code",
   "execution_count": null,
   "metadata": {},
   "outputs": [],
   "source": [
    "class Runner(object):\n",
    "    def __init__(self, f, in_shape):\n",
    "        self._f, self.shape = f, in_shape\n",
    "    def loss(self, x):\n",
    "        loss, self._grad = self._f([x.reshape(self.shape)])\n",
    "        return loss.astype(np.float64)\n",
    "    def grad(self, x):\n",
    "        return self._grad.astype(np.float64).flatten()\n",
    "runner = Runner(K.function([vgg_avg.model.input], [loss]+grad), img_input.shape)"
   ]
  },
  {
   "cell_type": "code",
   "execution_count": null,
   "metadata": {},
   "outputs": [],
   "source": [
    "from scipy.optimize import fmin_l_bfgs_b\n",
    "\n",
    "def learn_image(run_obj, x, niter):\n",
    "    his = []\n",
    "    for i in range(niter):\n",
    "        x, f, d = fmin_l_bfgs_b(run_obj.loss, x.flatten(), fprime=run_obj.grad, maxiter=20)\n",
    "        his.append(x.reshape(run_obj.shape).copy())\n",
    "        print('Iter {0}: loss {1}'.format(i, f))\n",
    "    return his"
   ]
  },
  {
   "cell_type": "code",
   "execution_count": null,
   "metadata": {},
   "outputs": [],
   "source": [
    "rand_img = np.array(np.random.uniform(-2.5, 2.5, img_input.shape).astype(np.float32)/100)\n",
    "#rand_img[0]\n",
    "import matplotlib\n",
    "plt.imshow(rand_img[0][:,:,0])\n",
    "plt.show()"
   ]
  },
  {
   "cell_type": "code",
   "execution_count": null,
   "metadata": {
    "scrolled": true
   },
   "outputs": [],
   "source": [
    "his = learn_image(runner, rand_img, niter=20)"
   ]
  },
  {
   "cell_type": "code",
   "execution_count": null,
   "metadata": {},
   "outputs": [],
   "source": [
    "plt.imshow(reverse_input(his[-1][0]).astype(np.uint8))"
   ]
  },
  {
   "cell_type": "code",
   "execution_count": null,
   "metadata": {},
   "outputs": [],
   "source": [
    "from IPython.display import HTML\n",
    "from matplotlib import animation, rc"
   ]
  },
  {
   "cell_type": "code",
   "execution_count": null,
   "metadata": {},
   "outputs": [],
   "source": [
    "fig, ax = plt.subplots()\n",
    "def animate(i):\n",
    "    ax.imshow(reverse_input(his[-1][0]).astype(np.uint8))\n",
    "anim = animation.FuncAnimation(fig, animate, frames=10, interval=200)\n",
    "HTML(anim.to_html5_video())"
   ]
  },
  {
   "cell_type": "markdown",
   "metadata": {},
   "source": [
    "## Creating Style"
   ]
  },
  {
   "cell_type": "code",
   "execution_count": null,
   "metadata": {},
   "outputs": [],
   "source": [
    "plt.imshow(reverse_input(van_img_input[0]).astype(np.uint8))\n",
    "plt.show()"
   ]
  },
  {
   "cell_type": "code",
   "execution_count": null,
   "metadata": {},
   "outputs": [],
   "source": [
    "style_layers = [vgg_avg.model.layers[conv_idx[i]].output for i in range(1, len(conv_idx), 3)]\n",
    "style_model = keras.Model(vgg_avg.model.input, style_layers)\n",
    "style_tgts = [K.variable(v) for v in style_model.predict(van_img_input)]"
   ]
  },
  {
   "cell_type": "code",
   "execution_count": null,
   "metadata": {},
   "outputs": [],
   "source": [
    "def gram_matrix(x):\n",
    "    tmp = K.permute_dimensions(x, (2, 0, 1))  # convert to (depth, y, x)\n",
    "    features = K.batch_flatten(tmp)  # keep depth, flatten each feature into one row\n",
    "    return K.dot(features, K.transpose(features)) / x.get_shape().num_elements()"
   ]
  },
  {
   "cell_type": "code",
   "execution_count": null,
   "metadata": {},
   "outputs": [],
   "source": [
    "def style_loss(x, tgt):\n",
    "    return K.mean(keras.metrics.mse(gram_matrix(x), gram_matrix(tgt)))"
   ]
  },
  {
   "cell_type": "code",
   "execution_count": null,
   "metadata": {},
   "outputs": [],
   "source": [
    "x=style_layers[0][0]\n",
    "tmp = K.permute_dimensions(x, (2, 0, 1))  # convert to (depth, y, x)\n",
    "tmp\n",
    "features = K.batch_flatten(tmp)  # keep depth, flatten each feature into one row\n",
    "tmp, features, x.get_shape()\n",
    "#K.dot(features, K.transpose(features)) / x.get_shape().num_elements()"
   ]
  },
  {
   "cell_type": "code",
   "execution_count": null,
   "metadata": {},
   "outputs": [],
   "source": [
    "loss = sum([style_loss(l[0], t[0]) for l, t in zip(style_layers, style_tgts)])\n",
    "grad = K.gradients(loss, [vgg_avg.model.input])\n",
    "style_runner = Runner(K.function([vgg_avg.model.input], [loss]+grad), van_img_input.shape)"
   ]
  },
  {
   "cell_type": "code",
   "execution_count": null,
   "metadata": {},
   "outputs": [],
   "source": []
  }
 ],
 "metadata": {
  "kernelspec": {
   "display_name": "Python 3",
   "language": "python",
   "name": "python3"
  },
  "language_info": {
   "codemirror_mode": {
    "name": "ipython",
    "version": 3
   },
   "file_extension": ".py",
   "mimetype": "text/x-python",
   "name": "python",
   "nbconvert_exporter": "python",
   "pygments_lexer": "ipython3",
   "version": "3.5.2"
  }
 },
 "nbformat": 4,
 "nbformat_minor": 2
}
