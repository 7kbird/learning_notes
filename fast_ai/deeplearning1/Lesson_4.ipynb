{
 "cells": [
  {
   "cell_type": "code",
   "execution_count": 1,
   "metadata": {},
   "outputs": [
    {
     "name": "stderr",
     "output_type": "stream",
     "text": [
      "Using TensorFlow backend.\n"
     ]
    }
   ],
   "source": [
    "%run env_setup.py\n",
    "import os\n",
    "import pandas as pd\n",
    "import numpy as np\n",
    "import keras\n",
    "from lessdeep.datasets.grouplens import movielens, movielens_small"
   ]
  },
  {
   "cell_type": "markdown",
   "metadata": {},
   "source": [
    "Load data"
   ]
  },
  {
   "cell_type": "code",
   "execution_count": 2,
   "metadata": {},
   "outputs": [],
   "source": [
    "data_path = movielens.download_data()\n",
    "sample_path = movielens_small.download_data()"
   ]
  },
  {
   "cell_type": "code",
   "execution_count": 3,
   "metadata": {},
   "outputs": [],
   "source": [
    "path = sample_path"
   ]
  },
  {
   "cell_type": "code",
   "execution_count": 4,
   "metadata": {},
   "outputs": [],
   "source": [
    "rating = pd.read_csv(os.path.join(path, 'ratings.csv'))"
   ]
  },
  {
   "cell_type": "code",
   "execution_count": 5,
   "metadata": {},
   "outputs": [
    {
     "data": {
      "text/html": [
       "<div>\n",
       "<style scoped>\n",
       "    .dataframe tbody tr th:only-of-type {\n",
       "        vertical-align: middle;\n",
       "    }\n",
       "\n",
       "    .dataframe tbody tr th {\n",
       "        vertical-align: top;\n",
       "    }\n",
       "\n",
       "    .dataframe thead th {\n",
       "        text-align: right;\n",
       "    }\n",
       "</style>\n",
       "<table border=\"1\" class=\"dataframe\">\n",
       "  <thead>\n",
       "    <tr style=\"text-align: right;\">\n",
       "      <th></th>\n",
       "      <th>userId</th>\n",
       "      <th>movieId</th>\n",
       "      <th>rating</th>\n",
       "      <th>timestamp</th>\n",
       "    </tr>\n",
       "  </thead>\n",
       "  <tbody>\n",
       "    <tr>\n",
       "      <th>0</th>\n",
       "      <td>1</td>\n",
       "      <td>31</td>\n",
       "      <td>2.5</td>\n",
       "      <td>1260759144</td>\n",
       "    </tr>\n",
       "    <tr>\n",
       "      <th>1</th>\n",
       "      <td>1</td>\n",
       "      <td>1029</td>\n",
       "      <td>3.0</td>\n",
       "      <td>1260759179</td>\n",
       "    </tr>\n",
       "    <tr>\n",
       "      <th>2</th>\n",
       "      <td>1</td>\n",
       "      <td>1061</td>\n",
       "      <td>3.0</td>\n",
       "      <td>1260759182</td>\n",
       "    </tr>\n",
       "    <tr>\n",
       "      <th>3</th>\n",
       "      <td>1</td>\n",
       "      <td>1129</td>\n",
       "      <td>2.0</td>\n",
       "      <td>1260759185</td>\n",
       "    </tr>\n",
       "    <tr>\n",
       "      <th>4</th>\n",
       "      <td>1</td>\n",
       "      <td>1172</td>\n",
       "      <td>4.0</td>\n",
       "      <td>1260759205</td>\n",
       "    </tr>\n",
       "  </tbody>\n",
       "</table>\n",
       "</div>"
      ],
      "text/plain": [
       "   userId  movieId  rating   timestamp\n",
       "0       1       31     2.5  1260759144\n",
       "1       1     1029     3.0  1260759179\n",
       "2       1     1061     3.0  1260759182\n",
       "3       1     1129     2.0  1260759185\n",
       "4       1     1172     4.0  1260759205"
      ]
     },
     "execution_count": 5,
     "metadata": {},
     "output_type": "execute_result"
    }
   ],
   "source": [
    "rating.head()"
   ]
  },
  {
   "cell_type": "markdown",
   "metadata": {},
   "source": [
    "Just for display purpose read movie names"
   ]
  },
  {
   "cell_type": "code",
   "execution_count": 6,
   "metadata": {},
   "outputs": [],
   "source": [
    "movie_names = pd.read_csv(os.path.join(path, 'movies.csv')).set_index('movieId')['title'].to_dict()"
   ]
  },
  {
   "cell_type": "code",
   "execution_count": 7,
   "metadata": {},
   "outputs": [],
   "source": [
    "users = rating['userId'].unique()\n",
    "movies = rating['movieId'].unique()\n",
    "userid2index = {o : i for i, o in enumerate(users)}\n",
    "movieid2index = {o : i for i, o in enumerate(movies)}\n",
    "\n",
    "rating.movieId = rating.movieId.apply(lambda x: movieid2index[x])\n",
    "rating.userId = rating.userId.apply(lambda x: userid2index[x])"
   ]
  },
  {
   "cell_type": "code",
   "execution_count": 8,
   "metadata": {},
   "outputs": [
    {
     "data": {
      "text/plain": [
       "(671, 9066)"
      ]
     },
     "execution_count": 8,
     "metadata": {},
     "output_type": "execute_result"
    }
   ],
   "source": [
    "n_users = rating.userId.nunique()\n",
    "n_movies = rating.movieId.nunique()\n",
    "n_users, n_movies"
   ]
  },
  {
   "cell_type": "code",
   "execution_count": 9,
   "metadata": {},
   "outputs": [
    {
     "data": {
      "text/plain": [
       "(79831, 20173)"
      ]
     },
     "execution_count": 9,
     "metadata": {},
     "output_type": "execute_result"
    }
   ],
   "source": [
    "np.random.seed(7)\n",
    "train_select = np.random.rand(len(rating)) < 0.8\n",
    "train_set = rating[train_select]\n",
    "val_set = rating[~train_select]\n",
    "(len(train_set), len(val_set))"
   ]
  },
  {
   "cell_type": "markdown",
   "metadata": {},
   "source": [
    "## Creating models"
   ]
  },
  {
   "cell_type": "code",
   "execution_count": 10,
   "metadata": {},
   "outputs": [],
   "source": [
    "n_factors = 50"
   ]
  },
  {
   "cell_type": "code",
   "execution_count": 11,
   "metadata": {},
   "outputs": [],
   "source": [
    "user_in = keras.layers.Input(shape=(1,), dtype=rating.userId.dtype, name='user_in')\n",
    "user_embedding = keras.layers.Embedding(input_dim=n_users, output_dim=n_factors,\n",
    "                                        embeddings_regularizer=keras.regularizers.l2(1e-4))(user_in)\n",
    "movie_in = keras.layers.Input(shape=(1,), dtype=rating.movieId.dtype, name='movie_in')\n",
    "movie_embedding = keras.layers.Embedding(input_dim=n_movies, output_dim=n_factors,\n",
    "                                         embeddings_regularizer=keras.regularizers.l2(1e-4))(movie_in)"
   ]
  },
  {
   "cell_type": "code",
   "execution_count": 12,
   "metadata": {},
   "outputs": [
    {
     "name": "stdout",
     "output_type": "stream",
     "text": [
      "__________________________________________________________________________________________________\n",
      "Layer (type)                    Output Shape         Param #     Connected to                     \n",
      "==================================================================================================\n",
      "user_in (InputLayer)            (None, 1)            0                                            \n",
      "__________________________________________________________________________________________________\n",
      "movie_in (InputLayer)           (None, 1)            0                                            \n",
      "__________________________________________________________________________________________________\n",
      "embedding_1 (Embedding)         (None, 1, 50)        33550       user_in[0][0]                    \n",
      "__________________________________________________________________________________________________\n",
      "embedding_2 (Embedding)         (None, 1, 50)        453300      movie_in[0][0]                   \n",
      "__________________________________________________________________________________________________\n",
      "dot_1 (Dot)                     (None, 1, 1)         0           embedding_1[0][0]                \n",
      "                                                                 embedding_2[0][0]                \n",
      "__________________________________________________________________________________________________\n",
      "flatten_1 (Flatten)             (None, 1)            0           dot_1[0][0]                      \n",
      "==================================================================================================\n",
      "Total params: 486,850\n",
      "Trainable params: 486,850\n",
      "Non-trainable params: 0\n",
      "__________________________________________________________________________________________________\n"
     ]
    }
   ],
   "source": [
    "#x = keras.layers.merge([user_embedding, movie_embedding], mode='dot')\n",
    "x = keras.layers.dot([user_embedding, movie_embedding], axes=(2, 2))\n",
    "x = keras.layers.Flatten()(x)\n",
    "model = keras.Model([user_in, movie_in], outputs=x)\n",
    "\n",
    "#import tensorflow as tf\n",
    "#run_options = tf.RunOptions(trace_level=tf.RunOptions.FULL_TRACE)\n",
    "#run_metadata = tf.RunMetadata()\n",
    "model.compile(keras.optimizers.Adam(0.001), loss='mse') #, options=run_options, run_metadata=run_metadata)\n",
    "model.summary()"
   ]
  },
  {
   "cell_type": "code",
   "execution_count": 13,
   "metadata": {},
   "outputs": [],
   "source": [
    "def train(epoches, batch_size=512):\n",
    "    model.fit([train_set.userId, train_set.movieId], train_set.rating, batch_size=batch_size, epochs=epoches,\n",
    "              validation_data=([val_set.userId, val_set.movieId], val_set.rating))"
   ]
  },
  {
   "cell_type": "code",
   "execution_count": 14,
   "metadata": {},
   "outputs": [
    {
     "name": "stdout",
     "output_type": "stream",
     "text": [
      "Train on 79831 samples, validate on 20173 samples\n",
      "Epoch 1/1\n",
      "79831/79831 [==============================] - 2s 30us/step - loss: 13.6755 - val_loss: 13.7333\n"
     ]
    }
   ],
   "source": [
    "train(1, batch_size=1024)"
   ]
  },
  {
   "cell_type": "code",
   "execution_count": 15,
   "metadata": {},
   "outputs": [],
   "source": [
    "model.optimizer.lr = 0.001"
   ]
  },
  {
   "cell_type": "code",
   "execution_count": 22,
   "metadata": {},
   "outputs": [
    {
     "ename": "TypeError",
     "evalue": "train() missing 1 required positional argument: 'epoches'",
     "output_type": "error",
     "traceback": [
      "\u001b[0;31m---------------------------------------------------------------------------\u001b[0m",
      "\u001b[0;31mTypeError\u001b[0m                                 Traceback (most recent call last)",
      "\u001b[0;32m<ipython-input-22-bcce4a81000f>\u001b[0m in \u001b[0;36m<module>\u001b[0;34m()\u001b[0m\n\u001b[0;32m----> 1\u001b[0;31m \u001b[0mtrain\u001b[0m\u001b[0;34m(\u001b[0m\u001b[0;36m5\u001b[0m\u001b[0;34m)\u001b[0m\u001b[0;34m\u001b[0m\u001b[0m\n\u001b[0m",
      "\u001b[0;31mTypeError\u001b[0m: train() missing 1 required positional argument: 'epoches'"
     ]
    }
   ],
   "source": [
    "train(5)"
   ]
  },
  {
   "cell_type": "markdown",
   "metadata": {},
   "source": [
    "# Add bias"
   ]
  },
  {
   "cell_type": "code",
   "execution_count": 34,
   "metadata": {},
   "outputs": [
    {
     "name": "stdout",
     "output_type": "stream",
     "text": [
      "__________________________________________________________________________________________________\n",
      "Layer (type)                    Output Shape         Param #     Connected to                     \n",
      "==================================================================================================\n",
      "user_in_1 (InputLayer)          (None, 1)            0                                            \n",
      "__________________________________________________________________________________________________\n",
      "movie_in_1 (InputLayer)         (None, 1)            0                                            \n",
      "__________________________________________________________________________________________________\n",
      "embedding_7 (Embedding)         (None, 1, 50)        33550       user_in_1[0][0]                  \n",
      "__________________________________________________________________________________________________\n",
      "embedding_8 (Embedding)         (None, 1, 50)        453300      movie_in_1[0][0]                 \n",
      "__________________________________________________________________________________________________\n",
      "dot_3 (Dot)                     (None, 1, 1)         0           embedding_7[0][0]                \n",
      "                                                                 embedding_8[0][0]                \n",
      "__________________________________________________________________________________________________\n",
      "embedding_9 (Embedding)         (None, 1, 1)         671         user_in_1[0][0]                  \n",
      "__________________________________________________________________________________________________\n",
      "embedding_10 (Embedding)        (None, 1, 1)         9066        movie_in_1[0][0]                 \n",
      "__________________________________________________________________________________________________\n",
      "flatten_5 (Flatten)             (None, 1)            0           dot_3[0][0]                      \n",
      "__________________________________________________________________________________________________\n",
      "flatten_6 (Flatten)             (None, 1)            0           embedding_9[0][0]                \n",
      "__________________________________________________________________________________________________\n",
      "flatten_7 (Flatten)             (None, 1)            0           embedding_10[0][0]               \n",
      "__________________________________________________________________________________________________\n",
      "add_2 (Add)                     (None, 1)            0           flatten_5[0][0]                  \n",
      "                                                                 flatten_6[0][0]                  \n",
      "                                                                 flatten_7[0][0]                  \n",
      "==================================================================================================\n",
      "Total params: 496,587\n",
      "Trainable params: 496,587\n",
      "Non-trainable params: 0\n",
      "__________________________________________________________________________________________________\n"
     ]
    }
   ],
   "source": [
    "def embedding(input_dim, output_dim, dtype, name):\n",
    "    input_layer = keras.layers.Input(shape=(1,), dtype=rating.userId.dtype, name=name)\n",
    "    return input_layer, keras.layers.Embedding(input_dim=input_dim, output_dim=output_dim,\n",
    "                                               embeddings_regularizer=keras.regularizers.l2(1e-4))(input_layer)\n",
    "user_in, user_emb = embedding(n_users, output_dim=n_factors, dtype=rating.userId.dtype, name=\"user_in_1\")\n",
    "movie_in, movie_emb = embedding(n_movies, output_dim=n_factors, dtype=rating.movieId.dtype, name=\"movie_in_1\")\n",
    "\n",
    "def create_bias(num):\n",
    "    return lambda input_l: keras.layers.Flatten()(keras.layers.Embedding(input_dim=num, output_dim=1)(input_l))\n",
    "\n",
    "x = keras.layers.dot([user_emb, movie_emb], axes=(2, 2))\n",
    "x = keras.layers.Flatten()(x)\n",
    "users_bias = create_bias(n_users)(user_in)\n",
    "movies_bias = create_bias(n_movies)(movie_in)\n",
    "x = keras.layers.add([x, users_bias, movies_bias])\n",
    "model_1 = keras.Model([user_in, movie_in], outputs=x)\n",
    "model_1.compile(keras.optimizers.Adam(0.001), loss='mse')\n",
    "model_1.summary()"
   ]
  },
  {
   "cell_type": "code",
   "execution_count": 35,
   "metadata": {},
   "outputs": [],
   "source": [
    "def train(model, epoches, batch_size=512):\n",
    "    model.fit([train_set.userId, train_set.movieId], train_set.rating, batch_size=batch_size, epochs=epoches,\n",
    "              validation_data=([val_set.userId, val_set.movieId], val_set.rating))"
   ]
  },
  {
   "cell_type": "code",
   "execution_count": 36,
   "metadata": {},
   "outputs": [
    {
     "name": "stdout",
     "output_type": "stream",
     "text": [
      "Train on 79831 samples, validate on 20173 samples\n",
      "Epoch 1/3\n",
      "79831/79831 [==============================] - 1s 10us/step - loss: 5.9648 - val_loss: 2.2931\n",
      "Epoch 2/3\n",
      "79831/79831 [==============================] - 1s 8us/step - loss: 2.0127 - val_loss: 2.1254\n",
      "Epoch 3/3\n",
      "79831/79831 [==============================] - 1s 8us/step - loss: 1.7817 - val_loss: 1.9955\n"
     ]
    }
   ],
   "source": [
    "model_1.optimizer.lr = 0.01\n",
    "train(model_1, 3)"
   ]
  },
  {
   "cell_type": "code",
   "execution_count": 38,
   "metadata": {},
   "outputs": [
    {
     "name": "stdout",
     "output_type": "stream",
     "text": [
      "Train on 79831 samples, validate on 20173 samples\n",
      "Epoch 1/6\n",
      "79831/79831 [==============================] - 1s 8us/step - loss: 0.8168 - val_loss: 1.2120\n",
      "Epoch 2/6\n",
      "79831/79831 [==============================] - 1s 8us/step - loss: 0.7496 - val_loss: 1.1566\n",
      "Epoch 3/6\n",
      "79831/79831 [==============================] - 1s 8us/step - loss: 0.7014 - val_loss: 1.1242\n",
      "Epoch 4/6\n",
      "79831/79831 [==============================] - 1s 8us/step - loss: 0.6696 - val_loss: 1.1004\n",
      "Epoch 5/6\n",
      "79831/79831 [==============================] - 1s 8us/step - loss: 0.6521 - val_loss: 1.0954\n",
      "Epoch 6/6\n",
      "79831/79831 [==============================] - 1s 8us/step - loss: 0.6409 - val_loss: 1.0922\n"
     ]
    }
   ],
   "source": [
    "model_1.optimizer.lr = 0.001\n",
    "train(model_1, 6, batch_size=512)"
   ]
  },
  {
   "cell_type": "markdown",
   "metadata": {},
   "source": [
    "# Analyze"
   ]
  },
  {
   "cell_type": "code",
   "execution_count": 39,
   "metadata": {},
   "outputs": [],
   "source": [
    "# groupby group rows with same key, here group users to each movie\n",
    "# then count users for each movie\n",
    "g = rating.groupby('movieId')['rating'].count()\n",
    "\n",
    "# take top 2000 most polular movies\n",
    "# the more user rating, the more popular the movie is. No matter rating is high or low\n",
    "g_top = g.sort_values(ascending=False)[:200]\n",
    "top_movie = np.array(g_top.index)"
   ]
  },
  {
   "cell_type": "markdown",
   "metadata": {},
   "source": [
    "## Movie bias\n",
    "movie bias means general property of the movie"
   ]
  },
  {
   "cell_type": "code",
   "execution_count": 40,
   "metadata": {},
   "outputs": [],
   "source": [
    "mbias_model = keras.Model(movie_in, movies_bias)\n",
    "top_mbiase = mbias_model.predict(top_movie)"
   ]
  },
  {
   "cell_type": "code",
   "execution_count": 49,
   "metadata": {},
   "outputs": [],
   "source": [
    "pred_rating = [(b[0], movie_names[movies[i]]) for i, b in zip(top_movie, top_mbiase)]"
   ]
  },
  {
   "cell_type": "code",
   "execution_count": 53,
   "metadata": {},
   "outputs": [
    {
     "data": {
      "text/plain": [
       "[(0.23316805, 'Ace Ventura: When Nature Calls (1995)'),\n",
       " (0.28110349, 'Blair Witch Project, The (1999)'),\n",
       " (0.42569846, 'Ace Ventura: Pet Detective (1994)'),\n",
       " (0.4436073, 'Waterworld (1995)'),\n",
       " (0.48902661, 'Batman Forever (1995)'),\n",
       " (0.54419923, 'Dumb & Dumber (Dumb and Dumber) (1994)'),\n",
       " (0.61570925, 'Demolition Man (1993)'),\n",
       " (0.66523993, 'Mask, The (1994)'),\n",
       " (0.67755139, 'Home Alone (1990)'),\n",
       " (0.71063524, 'Star Wars: Episode I - The Phantom Menace (1999)'),\n",
       " (0.71754479, 'Cliffhanger (1993)'),\n",
       " (0.72607332, 'Net, The (1995)'),\n",
       " (0.74424171, 'Austin Powers: The Spy Who Shagged Me (1999)'),\n",
       " (0.74786627, 'Armageddon (1998)'),\n",
       " (0.75457269, 'Grease (1978)')]"
      ]
     },
     "execution_count": 53,
     "metadata": {},
     "output_type": "execute_result"
    }
   ],
   "source": [
    "from operator import itemgetter\n",
    "sorted(pred_rating, key=itemgetter(0))[:15]"
   ]
  },
  {
   "cell_type": "code",
   "execution_count": 54,
   "metadata": {},
   "outputs": [
    {
     "data": {
      "text/plain": [
       "[(1.969792, 'Shawshank Redemption, The (1994)'),\n",
       " (1.7130233, 'Usual Suspects, The (1995)'),\n",
       " (1.7006024, 'Godfather, The (1972)'),\n",
       " (1.6850375, 'North by Northwest (1959)'),\n",
       " (1.6786536, 'Godfather: Part II, The (1974)'),\n",
       " (1.6743218, \"Schindler's List (1993)\"),\n",
       " (1.6656477, 'Rear Window (1954)'),\n",
       " (1.6387142, 'Graduate, The (1967)'),\n",
       " (1.6149404, 'Dark Knight, The (2008)'),\n",
       " (1.6141309, 'Fight Club (1999)'),\n",
       " (1.6084744, 'Amadeus (1984)'),\n",
       " (1.6081483, 'American Beauty (1999)'),\n",
       " (1.594745, 'Lord of the Rings: The Fellowship of the Ring, The (2001)'),\n",
       " (1.5921611, 'Fargo (1996)'),\n",
       " (1.5898565, 'Departed, The (2006)')]"
      ]
     },
     "execution_count": 54,
     "metadata": {},
     "output_type": "execute_result"
    }
   ],
   "source": [
    "sorted(pred_rating, key=itemgetter(0), reverse=True)[:15]"
   ]
  },
  {
   "cell_type": "markdown",
   "metadata": {},
   "source": [
    "## Movie Embedding\n",
    "embedding is too large to analyze. We can use [PCA(Principal Component Analysis)](https://en.wikipedia.org/wiki/Principal_component_analysis) to find the most important features"
   ]
  },
  {
   "cell_type": "code",
   "execution_count": 69,
   "metadata": {},
   "outputs": [
    {
     "data": {
      "text/plain": [
       "(200, 50)"
      ]
     },
     "execution_count": 69,
     "metadata": {},
     "output_type": "execute_result"
    }
   ],
   "source": [
    "memb_model = keras.Model(movie_in, movie_emb)\n",
    "top_emb = np.squeeze(memb_model.predict(top_movie))\n",
    "top_emb.shape"
   ]
  },
  {
   "cell_type": "code",
   "execution_count": 70,
   "metadata": {},
   "outputs": [
    {
     "data": {
      "text/plain": [
       "(3, 200)"
      ]
     },
     "execution_count": 70,
     "metadata": {},
     "output_type": "execute_result"
    }
   ],
   "source": [
    "from sklearn.decomposition import PCA\n",
    "movie_pca = PCA(n_components=3).fit(top_emb.T).components_\n",
    "movie_pca.shape"
   ]
  },
  {
   "cell_type": "code",
   "execution_count": 72,
   "metadata": {},
   "outputs": [],
   "source": [
    "movie_comp_0 = [(np.squeeze(em), movie_names[movies[i]]) for i, em in zip(top_movie, movie_pca[0])]"
   ]
  },
  {
   "cell_type": "code",
   "execution_count": 73,
   "metadata": {},
   "outputs": [
    {
     "data": {
      "text/plain": [
       "[(-0.061748736, 'Batman Forever (1995)'),\n",
       " (-0.054186881, 'Ace Ventura: When Nature Calls (1995)'),\n",
       " (-0.054059129, 'Demolition Man (1993)'),\n",
       " (-0.053379644, 'Twister (1996)'),\n",
       " (-0.039314698, 'Clear and Present Danger (1994)'),\n",
       " (-0.038626142, 'Armageddon (1998)'),\n",
       " (-0.034184832, 'Net, The (1995)'),\n",
       " (-0.03115828, 'Cliffhanger (1993)'),\n",
       " (-0.025284175, 'Back to the Future Part II (1989)'),\n",
       " (-0.021968322, 'Broken Arrow (1996)'),\n",
       " (-0.021323923, 'Sleepless in Seattle (1993)'),\n",
       " (-0.020879289, 'Back to the Future Part III (1990)'),\n",
       " (-0.020588996, 'Waterworld (1995)'),\n",
       " (-0.020182498, 'Mask, The (1994)'),\n",
       " (-0.018857751, 'GoldenEye (1995)')]"
      ]
     },
     "execution_count": 73,
     "metadata": {},
     "output_type": "execute_result"
    }
   ],
   "source": [
    "sorted(movie_comp_0, key=itemgetter(0))[:15]"
   ]
  },
  {
   "cell_type": "code",
   "execution_count": 74,
   "metadata": {},
   "outputs": [
    {
     "data": {
      "text/plain": [
       "[(0.18720871, 'Lord of the Rings: The Fellowship of the Ring, The (2001)'),\n",
       " (0.18555619, 'Star Wars: Episode IV - A New Hope (1977)'),\n",
       " (0.18156554, 'Star Wars: Episode VI - Return of the Jedi (1983)'),\n",
       " (0.18152682, 'Lord of the Rings: The Two Towers, The (2002)'),\n",
       " (0.17502758, 'Star Wars: Episode V - The Empire Strikes Back (1980)'),\n",
       " (0.15960774, 'Lord of the Rings: The Return of the King, The (2003)'),\n",
       " (0.15704687,\n",
       "  'Raiders of the Lost Ark (Indiana Jones and the Raiders of the Lost Ark) (1981)'),\n",
       " (0.15482344, 'Matrix, The (1999)'),\n",
       " (0.15457687, 'Godfather: Part II, The (1974)'),\n",
       " (0.1383649, 'Silence of the Lambs, The (1991)'),\n",
       " (0.13636601, 'Godfather, The (1972)'),\n",
       " (0.13013883, 'Pulp Fiction (1994)'),\n",
       " (0.1290341, \"Schindler's List (1993)\"),\n",
       " (0.12668279, 'Sixth Sense, The (1999)'),\n",
       " (0.12034744, 'Back to the Future (1985)')]"
      ]
     },
     "execution_count": 74,
     "metadata": {},
     "output_type": "execute_result"
    }
   ],
   "source": [
    "sorted(movie_comp_0, key=itemgetter(0), reverse=True)[:15]"
   ]
  }
 ],
 "metadata": {
  "kernelspec": {
   "display_name": "Python 3",
   "language": "python",
   "name": "python3"
  },
  "language_info": {
   "codemirror_mode": {
    "name": "ipython",
    "version": 3
   },
   "file_extension": ".py",
   "mimetype": "text/x-python",
   "name": "python",
   "nbconvert_exporter": "python",
   "pygments_lexer": "ipython3",
   "version": "3.5.2"
  }
 },
 "nbformat": 4,
 "nbformat_minor": 2
}
